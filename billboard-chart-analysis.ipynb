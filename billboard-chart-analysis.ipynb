{
 "cells": [
  {
   "cell_type": "markdown",
   "metadata": {},
   "source": [
    "# Exploratory Analysis of Billboard Chart Data"
   ]
  },
  {
   "cell_type": "markdown",
   "metadata": {},
   "source": [
    "For the soul purpose of aimlessly wandering through Billboard data to see what might be worth discovery.\n",
    "\n",
    "Data is collected using [Allen Guo](http://aguo.us/)'s [billboard.py](https://pypi.org/project/billboard.py/) package (thanks, yo!) which scrapes chart data from Billboard.com. As of right now, I am sticking with the Hot 100 chart for all weeks in 2018. The data is scraped, organized, the date is cast to `datetime64[ns]`, and everything is pickled for future uses without requiring it all be re-downloaded."
   ]
  },
  {
   "cell_type": "code",
   "execution_count": 19,
   "metadata": {},
   "outputs": [],
   "source": [
    "#\n",
    "# SKIP THIS CELL UNLESS THE DATA\n",
    "# NEEDS TO BE RE-DOWNLOADED C=\n",
    "#\n",
    "\n",
    "import billboard\n",
    "import numpy as np\n",
    "import pandas as pd\n",
    "\n",
    "_CHART = 'hot-100'\n",
    "rows_list = []\n",
    "\n",
    "chart = billboard.ChartData(_CHART, date='2018-12-29')\n",
    "while chart.date > '2018':\n",
    "    for track in chart:\n",
    "        rows_list.append({'date': chart.date,\n",
    "                          'rank': track.rank,\n",
    "                          'artist': track.artist,\n",
    "                          'title': track.title,\n",
    "                          'is_new': track.isNew,\n",
    "                          'rank_last_week': track.lastPos,\n",
    "                          'rank_peak_current': track.peakPos,\n",
    "                          'consec_weeks_current': track.weeks})\n",
    "    \n",
    "    chart = billboard.ChartData(_CHART, chart.previousDate)\n",
    "\n",
    "df = pd.DataFrame(rows_list)\n",
    "df['date'] = df['date'].astype('datetime64')\n",
    "\n",
    "df.to_pickle('./2018-hot-100.pkl')"
   ]
  },
  {
   "cell_type": "code",
   "execution_count": 21,
   "metadata": {},
   "outputs": [
    {
     "data": {
      "text/plain": [
       "artist                          object\n",
       "consec_weeks_current             int64\n",
       "date                    datetime64[ns]\n",
       "is_new                            bool\n",
       "rank                             int64\n",
       "rank_last_week                   int64\n",
       "rank_peak_current                int64\n",
       "title                           object\n",
       "dtype: object"
      ]
     },
     "execution_count": 21,
     "metadata": {},
     "output_type": "execute_result"
    }
   ],
   "source": [
    "#\n",
    "# START HERE IF YOU DON'T NEED\n",
    "# TO RE-DOWNLOAD THE DATA C=\n",
    "#\n",
    "\n",
    "import numpy as np\n",
    "import pandas as pd\n",
    "import matplotlib.pyplot as plt \n",
    "\n",
    "df = pd.read_pickle('./2018-hot-100.pkl')\n",
    "\n",
    "df.dtypes"
   ]
  },
  {
   "cell_type": "markdown",
   "metadata": {},
   "source": [
    "With very few uses for each observation of an individual track as unique to every other of its observations, I decided to group the dataframe by both the `artist` and `title` columns and store the `DataFrameGroupBy` object for further use as necessary."
   ]
  },
  {
   "cell_type": "code",
   "execution_count": 23,
   "metadata": {},
   "outputs": [],
   "source": [
    "artist_title_group = df.groupby(['artist','title'])"
   ]
  },
  {
   "cell_type": "markdown",
   "metadata": {},
   "source": [
    "The data returned by `billboard.py` is only what is able to be scraped off the chart each week. The values in `consec_weeks_current` and `rank_peak_current` are only the number of consecutive weeks and it's highest rank, respectively, for any given track *as of the current week*. I created new columns, `consec_weeks_overall` and `rank_peak_overall`, to store the value of the tracks' consecutive weeks and highest rank on the chart overall (within 2018)."
   ]
  },
  {
   "cell_type": "code",
   "execution_count": 14,
   "metadata": {
    "scrolled": true
   },
   "outputs": [
    {
     "data": {
      "text/html": [
       "<div>\n",
       "<style scoped>\n",
       "    .dataframe tbody tr th:only-of-type {\n",
       "        vertical-align: middle;\n",
       "    }\n",
       "\n",
       "    .dataframe tbody tr th {\n",
       "        vertical-align: top;\n",
       "    }\n",
       "\n",
       "    .dataframe thead th {\n",
       "        text-align: right;\n",
       "    }\n",
       "</style>\n",
       "<table border=\"1\" class=\"dataframe\">\n",
       "  <thead>\n",
       "    <tr style=\"text-align: right;\">\n",
       "      <th></th>\n",
       "      <th>date</th>\n",
       "      <th>rank</th>\n",
       "      <th>consec_weeks_current</th>\n",
       "      <th>consec_weeks_overall</th>\n",
       "      <th>rank_peak_current</th>\n",
       "      <th>rank_peak_overall</th>\n",
       "    </tr>\n",
       "  </thead>\n",
       "  <tbody>\n",
       "    <tr>\n",
       "      <th>5295</th>\n",
       "      <td>2018-01-03</td>\n",
       "      <td>96</td>\n",
       "      <td>3</td>\n",
       "      <td>20</td>\n",
       "      <td>95</td>\n",
       "      <td>44</td>\n",
       "    </tr>\n",
       "    <tr>\n",
       "      <th>5296</th>\n",
       "      <td>2018-01-03</td>\n",
       "      <td>97</td>\n",
       "      <td>9</td>\n",
       "      <td>12</td>\n",
       "      <td>66</td>\n",
       "      <td>66</td>\n",
       "    </tr>\n",
       "    <tr>\n",
       "      <th>5297</th>\n",
       "      <td>2018-01-03</td>\n",
       "      <td>98</td>\n",
       "      <td>2</td>\n",
       "      <td>37</td>\n",
       "      <td>61</td>\n",
       "      <td>6</td>\n",
       "    </tr>\n",
       "    <tr>\n",
       "      <th>5298</th>\n",
       "      <td>2018-01-03</td>\n",
       "      <td>99</td>\n",
       "      <td>5</td>\n",
       "      <td>20</td>\n",
       "      <td>91</td>\n",
       "      <td>52</td>\n",
       "    </tr>\n",
       "    <tr>\n",
       "      <th>5299</th>\n",
       "      <td>2018-01-03</td>\n",
       "      <td>100</td>\n",
       "      <td>3</td>\n",
       "      <td>12</td>\n",
       "      <td>98</td>\n",
       "      <td>68</td>\n",
       "    </tr>\n",
       "  </tbody>\n",
       "</table>\n",
       "</div>"
      ],
      "text/plain": [
       "           date  rank  consec_weeks_current  consec_weeks_overall  \\\n",
       "5295 2018-01-03    96                     3                    20   \n",
       "5296 2018-01-03    97                     9                    12   \n",
       "5297 2018-01-03    98                     2                    37   \n",
       "5298 2018-01-03    99                     5                    20   \n",
       "5299 2018-01-03   100                     3                    12   \n",
       "\n",
       "      rank_peak_current  rank_peak_overall  \n",
       "5295                 95                 44  \n",
       "5296                 66                 66  \n",
       "5297                 61                  6  \n",
       "5298                 91                 52  \n",
       "5299                 98                 68  "
      ]
     },
     "execution_count": 14,
     "metadata": {},
     "output_type": "execute_result"
    }
   ],
   "source": [
    "df['consec_weeks_overall'] = artist_title_group['consec_weeks_current'].transform(max)\n",
    "df['rank_peak_overall'] = artist_title_group['rank_peak_current'].transform(min)\n",
    "\n",
    "df[['date',\n",
    "    'rank',\n",
    "    'consec_weeks_current',\n",
    "    'consec_weeks_overall',\n",
    "    'rank_peak_current',\n",
    "    'rank_peak_overall']].tail()"
   ]
  },
  {
   "cell_type": "code",
   "execution_count": 15,
   "metadata": {},
   "outputs": [
    {
     "data": {
      "text/html": [
       "<div>\n",
       "<style scoped>\n",
       "    .dataframe tbody tr th:only-of-type {\n",
       "        vertical-align: middle;\n",
       "    }\n",
       "\n",
       "    .dataframe tbody tr th {\n",
       "        vertical-align: top;\n",
       "    }\n",
       "\n",
       "    .dataframe thead th {\n",
       "        text-align: right;\n",
       "    }\n",
       "</style>\n",
       "<table border=\"1\" class=\"dataframe\">\n",
       "  <thead>\n",
       "    <tr style=\"text-align: right;\">\n",
       "      <th></th>\n",
       "      <th>consec_weeks_current</th>\n",
       "      <th>rank</th>\n",
       "      <th>rank_last_week</th>\n",
       "      <th>rank_peak_current</th>\n",
       "      <th>consec_weeks_overall</th>\n",
       "      <th>rank_peak_overall</th>\n",
       "    </tr>\n",
       "  </thead>\n",
       "  <tbody>\n",
       "    <tr>\n",
       "      <th>count</th>\n",
       "      <td>5300.000000</td>\n",
       "      <td>5300.000000</td>\n",
       "      <td>5300.000000</td>\n",
       "      <td>5300.000000</td>\n",
       "      <td>5300.000000</td>\n",
       "      <td>5300.000000</td>\n",
       "    </tr>\n",
       "    <tr>\n",
       "      <th>mean</th>\n",
       "      <td>11.483774</td>\n",
       "      <td>50.500000</td>\n",
       "      <td>39.719057</td>\n",
       "      <td>36.685283</td>\n",
       "      <td>19.416226</td>\n",
       "      <td>31.264340</td>\n",
       "    </tr>\n",
       "    <tr>\n",
       "      <th>std</th>\n",
       "      <td>10.077840</td>\n",
       "      <td>28.868794</td>\n",
       "      <td>30.261335</td>\n",
       "      <td>28.355576</td>\n",
       "      <td>12.181646</td>\n",
       "      <td>25.562746</td>\n",
       "    </tr>\n",
       "    <tr>\n",
       "      <th>min</th>\n",
       "      <td>1.000000</td>\n",
       "      <td>1.000000</td>\n",
       "      <td>0.000000</td>\n",
       "      <td>1.000000</td>\n",
       "      <td>1.000000</td>\n",
       "      <td>1.000000</td>\n",
       "    </tr>\n",
       "    <tr>\n",
       "      <th>25%</th>\n",
       "      <td>4.000000</td>\n",
       "      <td>25.750000</td>\n",
       "      <td>12.000000</td>\n",
       "      <td>10.000000</td>\n",
       "      <td>10.000000</td>\n",
       "      <td>8.000000</td>\n",
       "    </tr>\n",
       "    <tr>\n",
       "      <th>50%</th>\n",
       "      <td>9.000000</td>\n",
       "      <td>50.500000</td>\n",
       "      <td>37.000000</td>\n",
       "      <td>33.000000</td>\n",
       "      <td>20.000000</td>\n",
       "      <td>27.000000</td>\n",
       "    </tr>\n",
       "    <tr>\n",
       "      <th>75%</th>\n",
       "      <td>17.000000</td>\n",
       "      <td>75.250000</td>\n",
       "      <td>65.000000</td>\n",
       "      <td>58.000000</td>\n",
       "      <td>24.000000</td>\n",
       "      <td>51.000000</td>\n",
       "    </tr>\n",
       "    <tr>\n",
       "      <th>max</th>\n",
       "      <td>59.000000</td>\n",
       "      <td>100.000000</td>\n",
       "      <td>100.000000</td>\n",
       "      <td>100.000000</td>\n",
       "      <td>59.000000</td>\n",
       "      <td>100.000000</td>\n",
       "    </tr>\n",
       "  </tbody>\n",
       "</table>\n",
       "</div>"
      ],
      "text/plain": [
       "       consec_weeks_current         rank  rank_last_week  rank_peak_current  \\\n",
       "count           5300.000000  5300.000000     5300.000000        5300.000000   \n",
       "mean              11.483774    50.500000       39.719057          36.685283   \n",
       "std               10.077840    28.868794       30.261335          28.355576   \n",
       "min                1.000000     1.000000        0.000000           1.000000   \n",
       "25%                4.000000    25.750000       12.000000          10.000000   \n",
       "50%                9.000000    50.500000       37.000000          33.000000   \n",
       "75%               17.000000    75.250000       65.000000          58.000000   \n",
       "max               59.000000   100.000000      100.000000         100.000000   \n",
       "\n",
       "       consec_weeks_overall  rank_peak_overall  \n",
       "count           5300.000000        5300.000000  \n",
       "mean              19.416226          31.264340  \n",
       "std               12.181646          25.562746  \n",
       "min                1.000000           1.000000  \n",
       "25%               10.000000           8.000000  \n",
       "50%               20.000000          27.000000  \n",
       "75%               24.000000          51.000000  \n",
       "max               59.000000         100.000000  "
      ]
     },
     "execution_count": 15,
     "metadata": {},
     "output_type": "execute_result"
    }
   ],
   "source": [
    "df.describe()"
   ]
  },
  {
   "cell_type": "code",
   "execution_count": 18,
   "metadata": {},
   "outputs": [
    {
     "data": {
      "text/plain": [
       "array([ 7, 11, 20,  9, 18, 29, 10, 14, 26, 24, 30, 17, 16, 23, 34,  3, 32,\n",
       "        1, 12,  8,  2,  4, 15, 44, 37, 22, 19,  6,  5, 13, 38, 35, 41, 39,\n",
       "       40, 27, 52, 57, 25, 36, 21, 46, 48, 31, 54, 28, 45, 33, 59, 42],\n",
       "      dtype=int64)"
      ]
     },
     "execution_count": 18,
     "metadata": {},
     "output_type": "execute_result"
    }
   ],
   "source": [
    "df['consec_weeks_overall'].unique()"
   ]
  },
  {
   "cell_type": "code",
   "execution_count": 7,
   "metadata": {
    "scrolled": false
   },
   "outputs": [
    {
     "data": {
      "image/png": "[encoded data removed]",
      "text/plain": [
       "<Figure size 1440x560 with 1 Axes>"
      ]
     },
     "metadata": {},
     "output_type": "display_data"
    }
   ],
   "source": [
    "consec_weeks_overall_plt = artist_title_group[['consec_weeks_overall']].first()\n",
    "\n",
    "plt.figure(figsize=(18, 7), dpi= 80, facecolor='w', edgecolor='k')\n",
    "consec_weeks_overall_plt['consec_weeks_overall'].plot.hist(bins=60, color='b', alpha=0.6)\n",
    "\n",
    "plt.xlabel('Consecutive Weeks')\n",
    "plt.ylabel('Tracks')\n",
    "plt.title('Distribution of Consecutive Weeks Tracks on Billboard Hot 100 Chart in 2018')\n",
    "plt.grid(False)\n",
    "plt.show()"
   ]
  },
  {
   "cell_type": "code",
   "execution_count": 8,
   "metadata": {},
   "outputs": [
    {
     "data": {
      "image/png": "[encoded data removed]",
      "text/plain": [
       "<Figure size 432x288 with 1 Axes>"
      ]
     },
     "metadata": {
      "needs_background": "light"
     },
     "output_type": "display_data"
    }
   ],
   "source": [
    "peaks_vs_weeks_plt = artist_title_group[['rank_peak_overall', 'consec_weeks_overall']].first()\n",
    "\n",
    "peaks_vs_weeks_plt.plot.scatter(x='consec_weeks_overall', y='rank_peak_overall', color='b', alpha=0.6)\n",
    "\n",
    "plt.xlabel('Consecutive Weeks')\n",
    "plt.ylabel('Peak Rank')\n",
    "plt.title('Track Peak Rank vs. Number of Consecutive Weeks on Billboard\\'s Hot 100 Chart')\n",
    "plt.gca().invert_yaxis()\n",
    "plt.grid(False)\n",
    "plt.show()"
   ]
  },
  {
   "cell_type": "code",
   "execution_count": null,
   "metadata": {},
   "outputs": [],
   "source": []
  }
 ],
 "metadata": {
  "kernelspec": {
   "display_name": "Python 3",
   "language": "python",
   "name": "python3"
  },
  "language_info": {
   "codemirror_mode": {
    "name": "ipython",
    "version": 3
   },
   "file_extension": ".py",
   "mimetype": "text/x-python",
   "name": "python",
   "nbconvert_exporter": "python",
   "pygments_lexer": "ipython3",
   "version": "3.7.2"
  }
 },
 "nbformat": 4,
 "nbformat_minor": 2
}
