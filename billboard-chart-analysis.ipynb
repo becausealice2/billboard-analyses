{
 "cells": [
  {
   "cell_type": "markdown",
   "metadata": {},
   "source": [
    "First cell only scrapes data and creates/pickles data frame and can be skipped if you don't need more than the 2018 Hot 100 charts."
   ]
  },
  {
   "cell_type": "code",
   "execution_count": null,
   "metadata": {},
   "outputs": [],
   "source": [
    "import billboard\n",
    "import numpy as np\n",
    "import pandas as pd\n",
    "\n",
    "week_counter = 53\n",
    "chart_type = 'hot-100'\n",
    "chart_date = '2018-12-29'\n",
    "chart = billboard.ChartData(chart_type, date=chart_date)\n",
    "\n",
    "COLUMN_NAMES = ['date', 'rank', 'artist', 'title', 'is_new', 'last_pos', 'peak_pos', 'weeks']\n",
    "output_df = pd.DataFrame(columns=COLUMN_NAMES)\n",
    "\n",
    "for i in range(0, week_counter):\n",
    "    for entry in range(0, 100):\n",
    "        song = chart[entry]\n",
    "        row = pd.Series([chart.date,\n",
    "                         song.rank,\n",
    "                         song.artist,\n",
    "                         song.title,\n",
    "                         song.isNew,\n",
    "                         song.lastPos,\n",
    "                         song.peakPos,\n",
    "                         song.weeks],\n",
    "                       index=COLUMN_NAMES)\n",
    "        \n",
    "        output_df = output_df.append(row, ignore_index=True)\n",
    "                        \n",
    "    chart_date = chart.previousDate\n",
    "    chart = billboard.ChartData(chart_type, chart_date)\n",
    "\n",
    "output_df = output_df.astype({'date': np.datetime64,\n",
    "                              'rank': np.int8,\n",
    "                              'is_new': np.bool,\n",
    "                              'last_pos': np.int8,\n",
    "                              'peak_pos': np.int8,\n",
    "                              'weeks': np.int8})\n",
    "\n",
    "output_df.to_pickle('./2018-hot-100.pkl')"
   ]
  },
  {
   "cell_type": "code",
   "execution_count": 1,
   "metadata": {},
   "outputs": [],
   "source": [
    "import numpy as np\n",
    "import pandas as pd\n",
    "import matplotlib.pyplot as plt \n",
    "\n",
    "df = pd.read_pickle('./2018-hot-100.pkl')\n",
    "df = df.set_index(['date', 'rank'])"
   ]
  },
  {
   "cell_type": "code",
   "execution_count": 2,
   "metadata": {},
   "outputs": [
    {
     "name": "stdout",
     "output_type": "stream",
     "text": [
      "1     599\n",
      "2     389\n",
      "3     332\n",
      "4     291\n",
      "5     270\n",
      "6     249\n",
      "7     229\n",
      "8     216\n",
      "9     203\n",
      "10    191\n",
      "11    182\n",
      "12    175\n",
      "13    166\n",
      "14    160\n",
      "15    152\n",
      "16    145\n",
      "17    145\n",
      "18    143\n",
      "19    135\n",
      "20    125\n",
      "21     78\n",
      "22     67\n",
      "23     59\n",
      "24     52\n",
      "25     48\n",
      "26     45\n",
      "27     42\n",
      "28     38\n",
      "29     36\n",
      "30     29\n",
      "31     26\n",
      "32     25\n",
      "33     24\n",
      "34     25\n",
      "35     24\n",
      "36     21\n",
      "37     19\n",
      "38     17\n",
      "39     15\n",
      "40     14\n",
      "41     11\n",
      "42     10\n",
      "43      8\n",
      "44      8\n",
      "45      6\n",
      "46      6\n",
      "47      5\n",
      "48      5\n",
      "49      6\n",
      "50      7\n",
      "51      7\n",
      "52      7\n",
      "53      2\n",
      "54      3\n",
      "55      2\n",
      "56      2\n",
      "57      2\n",
      "58      1\n",
      "59      1\n",
      "Name: weeks, dtype: int64\n"
     ]
    }
   ],
   "source": [
    "week_counts = df['weeks'].value_counts().sort_index()\n",
    "print(week_counts)"
   ]
  },
  {
   "cell_type": "code",
   "execution_count": 3,
   "metadata": {},
   "outputs": [
    {
     "name": "stdout",
     "output_type": "stream",
     "text": [
      "                                 artist  \\\n",
      "date       rank                           \n",
      "2018-12-29 1              Ariana Grande   \n",
      "           2                     Halsey   \n",
      "           3               Travis Scott   \n",
      "           4     Post Malone & Swae Lee   \n",
      "           5      Marshmello & Bastille   \n",
      "\n",
      "                                                         title  weeks  \\\n",
      "date       rank                                                         \n",
      "2018-12-29 1                                     Thank U, Next      7   \n",
      "           2                                        Without Me     11   \n",
      "           3                                        Sicko Mode     20   \n",
      "           4     Sunflower (Spider-Man: Into The Spider-Verse)      9   \n",
      "           5                                           Happier     18   \n",
      "\n",
      "                 weeks_max  \n",
      "date       rank             \n",
      "2018-12-29 1             7  \n",
      "           2            11  \n",
      "           3            20  \n",
      "           4             9  \n",
      "           5            18  \n"
     ]
    }
   ],
   "source": [
    "df['weeks_max'] = df.groupby(['artist','title'])['weeks'].transform(max)\n",
    "print(df[['artist', 'title', 'weeks', 'weeks_max']].head())"
   ]
  },
  {
   "cell_type": "code",
   "execution_count": 4,
   "metadata": {
    "scrolled": true
   },
   "outputs": [
    {
     "name": "stdout",
     "output_type": "stream",
     "text": [
      "1     220\n",
      "2      66\n",
      "3      48\n",
      "4      27\n",
      "5      26\n",
      "6      22\n",
      "7      15\n",
      "8      20\n",
      "9      14\n",
      "10     12\n",
      "11      7\n",
      "12     16\n",
      "13      8\n",
      "14     14\n",
      "15     10\n",
      "16      6\n",
      "17      7\n",
      "18     11\n",
      "19     12\n",
      "20     50\n",
      "21     11\n",
      "22     11\n",
      "23      9\n",
      "24      6\n",
      "25      4\n",
      "26      4\n",
      "27      4\n",
      "28      2\n",
      "29      7\n",
      "30      3\n",
      "31      1\n",
      "32      1\n",
      "33      1\n",
      "34      2\n",
      "35      3\n",
      "36      3\n",
      "37      2\n",
      "38      2\n",
      "39      1\n",
      "40      3\n",
      "41      2\n",
      "42      2\n",
      "44      2\n",
      "45      1\n",
      "46      1\n",
      "48      1\n",
      "52      5\n",
      "54      1\n",
      "57      1\n",
      "59      1\n",
      "Name: weeks_max, dtype: int64\n"
     ]
    }
   ],
   "source": [
    "weeks_max_df = df[['artist', 'title', 'weeks_max']].groupby(['artist', 'title']).first().sort_values(by='weeks_max')\n",
    "\n",
    "print(weeks_max_df['weeks_max'].value_counts().sort_index())"
   ]
  },
  {
   "cell_type": "code",
   "execution_count": 30,
   "metadata": {},
   "outputs": [
    {
     "data": {
      "image/png": "[encoded data removed]",
      "text/plain": [
       "<Figure size 1440x560 with 1 Axes>"
      ]
     },
     "metadata": {},
     "output_type": "display_data"
    }
   ],
   "source": [
    "plt.figure(figsize=(18, 7), dpi= 80, facecolor='w', edgecolor='k')\n",
    "weeks_max_df['weeks_max'].plot.hist(bins=60, color='b', alpha=0.6)\n",
    "\n",
    "plt.xlabel('Consecutive Weeks')\n",
    "plt.ylabel('Tracks')\n",
    "plt.title('Distribution of Consecutive Weeks Tracks on Billboard Hot 100 Chart in 2018')\n",
    "plt.grid(False)\n",
    "plt.show()"
   ]
  },
  {
   "cell_type": "code",
   "execution_count": 26,
   "metadata": {},
   "outputs": [
    {
     "name": "stdout",
     "output_type": "stream",
     "text": [
      "                                 artist  \\\n",
      "date       rank                           \n",
      "2018-12-29 1              Ariana Grande   \n",
      "           2                     Halsey   \n",
      "           3               Travis Scott   \n",
      "           4     Post Malone & Swae Lee   \n",
      "           5      Marshmello & Bastille   \n",
      "\n",
      "                                                         title  peak_rank  \\\n",
      "date       rank                                                             \n",
      "2018-12-29 1                                     Thank U, Next          1   \n",
      "           2                                        Without Me          2   \n",
      "           3                                        Sicko Mode          1   \n",
      "           4     Sunflower (Spider-Man: Into The Spider-Verse)          4   \n",
      "           5                                           Happier          3   \n",
      "\n",
      "                 weeks_max  \n",
      "date       rank             \n",
      "2018-12-29 1             7  \n",
      "           2            11  \n",
      "           3            20  \n",
      "           4             9  \n",
      "           5            18  \n"
     ]
    }
   ],
   "source": [
    "df['peak_rank'] = df.groupby(['artist','title'])['peak_pos'].transform(min)\n",
    "print(df[['artist', 'title', 'peak_rank', 'weeks_max']].head())"
   ]
  },
  {
   "cell_type": "code",
   "execution_count": 36,
   "metadata": {},
   "outputs": [
    {
     "data": {
      "image/png": "[encoded data removed]",
      "text/plain": [
       "<Figure size 432x288 with 1 Axes>"
      ]
     },
     "metadata": {
      "needs_background": "light"
     },
     "output_type": "display_data"
    }
   ],
   "source": [
    "df.plot.scatter(x='weeks_max', y='peak_rank', color='b', alpha=0.6)\n",
    "\n",
    "plt.xlabel('Consecutive Weeks')\n",
    "plt.ylabel('Peak Rank')\n",
    "plt.title('Track Peak Rank vs. Number of Consecutive Weeks on Billboard\\'s Hot 100 Chart')\n",
    "plt.gca().invert_yaxis()\n",
    "plt.grid(False)\n",
    "plt.show()"
   ]
  }
 ],
 "metadata": {
  "kernelspec": {
   "display_name": "Python 3",
   "language": "python",
   "name": "python3"
  },
  "language_info": {
   "codemirror_mode": {
    "name": "ipython",
    "version": 3
   },
   "file_extension": ".py",
   "mimetype": "text/x-python",
   "name": "python",
   "nbconvert_exporter": "python",
   "pygments_lexer": "ipython3",
   "version": "3.7.2"
  }
 },
 "nbformat": 4,
 "nbformat_minor": 2
}
